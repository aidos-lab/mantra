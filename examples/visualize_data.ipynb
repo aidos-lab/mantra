{
 "cells": [
  {
   "cell_type": "markdown",
   "metadata": {},
   "source": [
    "# Vizualisation of the dataset"
   ]
  },
  {
   "cell_type": "code",
   "execution_count": 42,
   "metadata": {},
   "outputs": [],
   "source": [
    "# Remove this line if installing via pip. \n",
    "import sys \n",
    "sys.path.insert(0,'../')"
   ]
  },
  {
   "cell_type": "markdown",
   "metadata": {},
   "source": [
    "Let's first load all the required packages. "
   ]
  },
  {
   "cell_type": "code",
   "execution_count": null,
   "metadata": {},
   "outputs": [],
   "source": [
    "# Visualization packages\n",
    "import pandas as pd\n",
    "import seaborn as sns\n",
    "\n",
    "\n",
    "# Load all required packages. \n",
    "from torch_geometric.transforms import Compose, FaceToEdge\n",
    "\n",
    "# Load the mantra dataset\n",
    "from mantra.datasets import ManifoldTriangulations\n",
    "from mantra.transforms import NodeIndex, RandomNodeFeatures"
   ]
  },
  {
   "cell_type": "markdown",
   "metadata": {},
   "source": [
    "We create the dataset with three transforms.\n",
    "\n",
    "The MANTRA dataset consists of triangulations with indices starting at $1$. \n",
    "Since `torch_geometric` is expecting $0$-indexed triangulations, we transform \n",
    "the dataset to a $0$-indexed dataset using the `NodeIndex` transform.\n",
    "The `FaceToEdge` transform adds the edge indices given the triangulation.\n",
    "\n",
    "For vizualisation and GNN architectures, we add random normal node feature \n",
    "to each vertex in the manifold.\n"
   ]
  },
  {
   "cell_type": "code",
   "execution_count": 44,
   "metadata": {},
   "outputs": [],
   "source": [
    "# Instantiate the dataset. Following the `torch-geometric` API, we download the \n",
    "# dataset into the root directory. \n",
    "dataset = ManifoldTriangulations(root=\"./data\", manifold=\"2\", version=\"latest\",\n",
    "                                 transform=Compose([\n",
    "                                        NodeIndex(),\n",
    "                                        RandomNodeFeatures(),\n",
    "                                        FaceToEdge(remove_faces=False),\n",
    "                                        ]\n",
    "                                    ),\n",
    "                                    force_reload=True\n",
    "                                )\n"
   ]
  },
  {
   "cell_type": "markdown",
   "metadata": {},
   "source": [
    "Let us now have a look at the dataset and inspect the attributes each manifold has."
   ]
  },
  {
   "cell_type": "code",
   "execution_count": 45,
   "metadata": {},
   "outputs": [
    {
     "name": "stdout",
     "output_type": "stream",
     "text": [
      "Data(id='manifold_2_4_1', triangulation=[4], dimension=[1], n_vertices=[1], betti_numbers=[3], torsion_coefficients=[3], name='S^2', genus=[1], orientable=[1], face=[3, 4], x=[4, 8], edge_index=[2, 12])\n"
     ]
    }
   ],
   "source": [
    "manifold = dataset[0]\n",
    "print(manifold)"
   ]
  },
  {
   "cell_type": "code",
   "execution_count": 46,
   "metadata": {},
   "outputs": [
    {
     "name": "stdout",
     "output_type": "stream",
     "text": [
      "tensor([4])\n",
      "tensor([2])\n",
      "tensor([[0.6607, 0.7624, 0.4432, 0.9999, 0.1373, 0.2800, 0.4610, 0.5221],\n",
      "        [0.6359, 0.5237, 0.2403, 0.9161, 0.2283, 0.5222, 0.8331, 0.9862],\n",
      "        [0.8414, 0.6905, 0.4954, 0.7668, 0.6087, 0.4721, 0.9083, 0.2066],\n",
      "        [0.4898, 0.8760, 0.3770, 0.3564, 0.6845, 0.6733, 0.6590, 0.0375]])\n",
      "tensor([[0, 0, 0, 1, 1, 1, 2, 2, 2, 3, 3, 3],\n",
      "        [1, 2, 3, 0, 2, 3, 0, 1, 3, 0, 1, 2]])\n",
      "tensor([[0, 0, 0, 1],\n",
      "        [1, 1, 2, 2],\n",
      "        [2, 3, 3, 3]])\n"
     ]
    }
   ],
   "source": [
    "# The number of vertices it has.\n",
    "print(manifold.n_vertices)\n",
    "\n",
    "# The dimension of the submanifold.\n",
    "print(manifold.dimension)\n",
    "\n",
    "# Vertex coordinates.\n",
    "print(manifold.x)\n",
    "\n",
    "# Edge indices\n",
    "print(manifold.edge_index)\n",
    "\n",
    "# Triangles (or faces)\n",
    "print(manifold.face)\n",
    "\n"
   ]
  },
  {
   "cell_type": "markdown",
   "metadata": {},
   "source": [
    "For prediction and regression tasks, MANTRA has the following (topological) attributes  available."
   ]
  },
  {
   "cell_type": "code",
   "execution_count": 47,
   "metadata": {},
   "outputs": [
    {
     "name": "stdout",
     "output_type": "stream",
     "text": [
      "[1, 0, 1]\n",
      "tensor([True])\n",
      "S^2\n"
     ]
    }
   ],
   "source": [
    "# The Betti numbers of the manifold. \n",
    "print(manifold.betti_numbers)\n",
    "\n",
    "# Whether the manifold is orientable or not. \n",
    "print(manifold.orientable)\n",
    "\n",
    "# The name of the manifold.\n",
    "print(manifold.name)"
   ]
  },
  {
   "cell_type": "markdown",
   "metadata": {},
   "source": [
    "## Betti numbers"
   ]
  },
  {
   "cell_type": "code",
   "execution_count": 48,
   "metadata": {},
   "outputs": [
    {
     "data": {
      "text/plain": [
       "<seaborn.axisgrid.FacetGrid at 0x7fd17d0fb010>"
      ]
     },
     "execution_count": 48,
     "metadata": {},
     "output_type": "execute_result"
    },
    {
     "data": {
      "image/png": "[encoded data removed]",
      "text/plain": [
       "<Figure size 558.875x500 with 1 Axes>"
      ]
     },
     "metadata": {},
     "output_type": "display_data"
    }
   ],
   "source": [
    "betti_numbers_df = pd.DataFrame(dataset.betti_numbers)\n",
    "sns.displot(betti_numbers_df,multiple=\"dodge\",discrete=True,shrink=.8)"
   ]
  },
  {
   "cell_type": "markdown",
   "metadata": {},
   "source": [
    "The plot above describes the distribution of Betti numbers for all manifolds in the dataset.\n",
    "On the vertical axis we have the counts, and on the horizontal axis the value of a given \n",
    "betti number (e.g. $\\beta_1 = 0$,$\\beta_1 = 1$, ..., $\\beta_1 = n$).  \n",
    "\n",
    "Since all manifolds consist of one connected, $\\beta_0=1$ for all, as can be seen in the histogram. \n",
    "For the first betti numbers, the values are more evenly spread out, with most having a \n",
    "values between $\\beta_1=0$ and $\\beta_1=5$. Lastly, second Betti number has values between \n",
    "$\\beta_2 = 0$ or $\\beta_1=1$."
   ]
  },
  {
   "cell_type": "markdown",
   "metadata": {},
   "source": [
    "## Orientability\n",
    "\n",
    "Orientability is a binary prediction task that purely depends on the triangulations. Only a \n",
    "fraction of the triangulations are orientable, making this a challenging task."
   ]
  },
  {
   "cell_type": "code",
   "execution_count": 49,
   "metadata": {},
   "outputs": [
    {
     "data": {
      "text/plain": [
       "<seaborn.axisgrid.FacetGrid at 0x7fd17d051db0>"
      ]
     },
     "execution_count": 49,
     "metadata": {},
     "output_type": "execute_result"
    },
    {
     "data": {
      "image/png": "[encoded data removed]",
      "text/plain": [
       "<Figure size 558.75x500 with 1 Axes>"
      ]
     },
     "metadata": {},
     "output_type": "display_data"
    }
   ],
   "source": [
    "orientable_df = pd.DataFrame(dataset.orientable)\n",
    "sns.displot(orientable_df,discrete=True,shrink=.8)"
   ]
  },
  {
   "cell_type": "markdown",
   "metadata": {},
   "source": [
    "## Name \n",
    "\n",
    "The name is the mathimatical name (such as a Torus, Sphere or Klein Bottle) of the manifold if it has one.\n",
    "Manifolds without a name are represented by the empty string `\"\"`. The task is to predict the name of the \n",
    "manifold given its triangulation."
   ]
  },
  {
   "cell_type": "markdown",
   "metadata": {},
   "source": [
    "#"
   ]
  },
  {
   "cell_type": "code",
   "execution_count": 50,
   "metadata": {},
   "outputs": [
    {
     "data": {
      "image/png": "[encoded data removed]",
      "text/plain": [
       "<Figure size 640x480 with 1 Axes>"
      ]
     },
     "metadata": {},
     "output_type": "display_data"
    }
   ],
   "source": [
    "name_df = pd.DataFrame(dataset.name,columns=['name'])\n",
    "sns.countplot(name_df,x=\"name\");"
   ]
  },
  {
   "cell_type": "code",
   "execution_count": null,
   "metadata": {},
   "outputs": [],
   "source": []
  }
 ],
 "metadata": {
  "kernelspec": {
   "display_name": "Python 3",
   "language": "python",
   "name": "python3"
  },
  "language_info": {
   "codemirror_mode": {
    "name": "ipython",
    "version": 3
   },
   "file_extension": ".py",
   "mimetype": "text/x-python",
   "name": "python",
   "nbconvert_exporter": "python",
   "pygments_lexer": "ipython3",
   "version": "3.10.12"
  }
 },
 "nbformat": 4,
 "nbformat_minor": 2
}
